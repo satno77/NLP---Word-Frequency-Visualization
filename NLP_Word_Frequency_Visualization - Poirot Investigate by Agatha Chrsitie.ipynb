{
 "cells": [
  {
   "cell_type": "markdown",
   "metadata": {},
   "source": [
    "## Natural Processing Language -  Word Frequency Visualization"
   ]
  },
  {
   "cell_type": "markdown",
   "metadata": {},
   "source": [
    "<p>`what is the most frequent words in novel \"Poirot Investigate\" by Agatha Christie and how often they occur?`</p>\n",
    "<p>`In this notebook we will try to scape the novel \"Poirot Investigate\" using Beautiful Soup from gutenberg project. You can access this` <a href=\"http://www.gutenberg.org/files/61262/61262-h/61262-h.htm\" target=\"_blank\"> novel</a> `within gutenberg website.` <a href=\"http://www.gutenberg.org/\" target=\"_blank\"> Gutenberg</a> `is a one of website that provide free e-books with copyright that has already expired (mostly older books). Then we will try extract words using Beautiful Soup`</p> \n",
    "\n",
    "<p>`Beautiful soup is one the python library for getting data from markup languages (HTML, XML, etc). Beautiful soup will help you to pull particulary data from webpage, remove the html and any other markup tag into format that you desire for example only text. You can learn more by access beautiful soup` <a href=\"https://www.crummy.com/software/BeautifulSoup/bs4/doc/\" target=\"_blank\"> documentation. </a> `After srape the date, we will dive into` <a href=\"https://www.nltk.org/\" target=\"_blank\"> NLTK (Natural Language TooKit). </a> `to analyzing the words distibution and also using` <a href=\"https://docs.python.org/3/library/collections.html\" target=\"_blank\"> Counter  </a> and Requests package. </p>\n",
    "\n",
    "<p>`Let's start by loading python package that we gonna use in this notebook.` </p>"
   ]
  },
  {
   "cell_type": "markdown",
   "metadata": {},
   "source": [
    "### 1. Load Package"
   ]
  },
  {
   "cell_type": "code",
   "execution_count": 2,
   "metadata": {
    "collapsed": true
   },
   "outputs": [],
   "source": [
    "#load package\n",
    "from bs4 import BeautifulSoup\n",
    "import nltk\n",
    "import requests\n",
    "from collections import Counter\n",
    "import matplotlib.pyplot as plt "
   ]
  },
  {
   "cell_type": "markdown",
   "metadata": {},
   "source": [
    "### 2. Request Data\n",
    "<p> `We need URL to access it's content from gutenberg  and scrape it's data with beutiful soup` </p>\n",
    "URL novel -> http://www.gutenberg.org/files/61262/61262-h/61262-h.htm\n"
   ]
  },
  {
   "cell_type": "code",
   "execution_count": 80,
   "metadata": {},
   "outputs": [
    {
     "name": "stdout",
     "output_type": "stream",
     "text": [
      "<!DOCTYPE html PUBLIC \"-//W3C//DTD XHTML 1.0 Strict//EN\"\r\n",
      "    \"http://www.w3.org/TR/xhtml1/DTD/xhtml1-strict.dtd\">\r\n",
      "<html xmlns=\"http://www.w3.org/1999/xhtml\" xml:lang=\"en\" lang=\"en\">\r\n",
      "  <head>\r\n",
      "    <meta http-equiv=\"Content-Type\" content=\"text/html; charset=utf-8\"/>\r\n",
      "    <meta http-equiv=\"Content-Style-Type\" content=\"text/css\" />\r\n",
      "    <title>\r\n",
      "      The Project Gutenberg eBook of Poirot Investigates by Agatha Christie.\r\n",
      "    </title>\r\n",
      "\r\n",
      "    <style type=\"text/css\">\r\n",
      "\r\n",
      "body {\r\n",
      "    margin-left: 10%\n"
     ]
    }
   ],
   "source": [
    "#get the URL\n",
    "r = requests.get('https://www.gutenberg.org/files/61262/61262-h/61262-h.htm')\n",
    "\n",
    "\n",
    "#setting the encoding html\n",
    "r.encoding = 'utf-8'\n",
    "\n",
    "#extract html \n",
    "html = r.text\n",
    "\n",
    "#print some of the result\n",
    "print(html[0:500])"
   ]
  },
  {
   "cell_type": "markdown",
   "metadata": {},
   "source": [
    "### 3. Extract Text\n",
    "<p>After we get the data, it's time to format into the data we desire. In this notebook, we want to pull only the text from HTML format using Request package before. You can use BeautfulSoup <a href=\"https://www.crummy.com/software/BeautifulSoup/bs4/doc/\" target=\"_blank\"> documentation. </a> on how to get the data.</p>"
   ]
  },
  {
   "cell_type": "code",
   "execution_count": 51,
   "metadata": {},
   "outputs": [
    {
     "name": "stdout",
     "output_type": "stream",
     "text": [
      "\n",
      "\n",
      "\n",
      "\n",
      "\n",
      "\r\n",
      "      The Project Gutenberg eBook of Poirot Investigates by Agatha Christie.\r\n",
      "    \n",
      "\r\n",
      "\r\n",
      "body {\r\n",
      "    margin-left: 10%;\r\n",
      "    margin-right: 10%;\r\n",
      "}\r\n",
      "\r\n",
      "    h1,h2, h3 {\r\n",
      "    text-align: center; /* all headings centered */\r\n",
      "    clear: both;\r\n",
      "\tfont-weight: normal;\r\n",
      "}\r\n",
      "\r\n",
      "h1 {\r\n",
      "    margin-bottom: 2em;\r\n",
      "}\r\n",
      "\r\n",
      "h2 {\r\n",
      "    margin-top: 2.99em;\r\n",
      "    font-size: medium;\r\n",
      "\tmargin-bottom: 1.0em;\r\n",
      "}\r\n",
      "\r\n",
      "h3 {\r\n",
      "    font-size: medium;\r\n",
      "}\r\n",
      "\r\n",
      "p {\r\n",
      "    margin-top: .99em;\r\n",
      "    text-align: justify;\r\n",
      "\ttext-indent: 1em;\r\n",
      "\n"
     ]
    }
   ],
   "source": [
    "#Create BeautifulSoup Object\n",
    "soup = BeautifulSoup(html,\"html.parser\")\n",
    "\n",
    "#getting the text\n",
    "text = soup.get_text()\n",
    "print(text[:500])"
   ]
  },
  {
   "cell_type": "code",
   "execution_count": 83,
   "metadata": {},
   "outputs": [
    {
     "data": {
      "text/plain": [
       "[<a href=\"#CH1\">I The Adventure of “The Western Star”</a>,\n",
       " <a href=\"#CH2\">II The Tragedy at Marsdon Manor</a>,\n",
       " <a href=\"#CH3\">III The Adventure of the Cheap Flat</a>,\n",
       " <a href=\"#CH4\">IV The Mystery of Hunter’s Lodge</a>,\n",
       " <a href=\"#CH5\">V The Million Dollar Bond Robbery</a>,\n",
       " <a href=\"#CH6\">VI The Adventure of the Egyptian Tomb</a>,\n",
       " <a href=\"#CH7\">VII Jewel Robbery at the <i>Grand Metropolitan</i></a>,\n",
       " <a href=\"#CH8\">VIII The Kidnapped Prime Minister</a>,\n",
       " <a href=\"#CH9\">IX The Disappearance of Mr. Davenheim</a>,\n",
       " <a href=\"#CH10\">X The Adventure of the Italian Nobleman</a>,\n",
       " <a href=\"#CH11\">XI The Case of the Missing Will</a>]"
      ]
     },
     "execution_count": 83,
     "metadata": {},
     "output_type": "execute_result"
    }
   ],
   "source": [
    "# Exploration - > all this snytax you can find on documentation BeautifulSoup\n",
    "soup.title\n",
    "soup.find_all('a')"
   ]
  },
  {
   "cell_type": "markdown",
   "metadata": {},
   "source": [
    "### 4. Extract the words\n",
    "<p>`The next step is to analyzing the words using ntlk. The first step is by create tokenizer for the text. Tokenization is a process of tokenizing or splitting a string, text into a list of token. For example from a sentence, the token is each of word that make that whole sentences, or token of paragraph is the sentences.`  </p>"
   ]
  },
  {
   "cell_type": "code",
   "execution_count": 71,
   "metadata": {
    "collapsed": true
   },
   "outputs": [],
   "source": [
    "tokenizer = nltk.tokenize.RegexpTokenizer('\\w+')"
   ]
  },
  {
   "cell_type": "markdown",
   "metadata": {},
   "source": [
    "<p> `From the code above \"('\\w+')\" we use some Regex. `</p>\n",
    "<p> `\\w : Will match with any character alphanumeric A-z, a-z, 0-9 that include with undercore `</p>\n",
    "<p> `+  : Previous character in the regex can appear as many times `</p>\n",
    "\n",
    "`You can learn about regex in documentation `<a href=\"http://www.nltk.org/api/nltk.tokenize.html?highlight=regexp#module-nltk.tokenize.regexp\" target=\"_blank\"> NLTK.</a> `or` <a href=\"https://www.w3schools.com/python/python_regex.asp\" target=\"_blank\"> W3SCHOOL. </a>"
   ]
  },
  {
   "cell_type": "code",
   "execution_count": 72,
   "metadata": {},
   "outputs": [
    {
     "name": "stdout",
     "output_type": "stream",
     "text": [
      "['The', 'Project', 'Gutenberg', 'eBook', 'of']\n"
     ]
    }
   ],
   "source": [
    "tokens = tokenizer.tokenize(text)\n",
    "print(tokens[0:5])"
   ]
  },
  {
   "cell_type": "code",
   "execution_count": 73,
   "metadata": {},
   "outputs": [
    {
     "name": "stdout",
     "output_type": "stream",
     "text": [
      "['the', 'project', 'gutenberg', 'ebook', 'of', 'poirot', 'investigates', 'by', 'agatha', 'christie']\n"
     ]
    }
   ],
   "source": [
    "#lowercase the tokens\n",
    "#we should lowercase all the token as it is case sensitive\n",
    "token_in_lowercase = [token.lower() for token in tokens]\n",
    "print(token_in_lowercase[:10])"
   ]
  },
  {
   "cell_type": "markdown",
   "metadata": {},
   "source": [
    "### 5. Stop Words\n",
    "<p>`A stop word is a commonly used words such as 'the','a','an' etc. We can consider to ignore this words to increase time prcessing. We can remove this word by using list of word that we consider stop words. NLTK has list of this kind of stop words that we can use in many languages. See documentation in NLTK about list of stop word that available.`</p>"
   ]
  },
  {
   "cell_type": "code",
   "execution_count": 9,
   "metadata": {},
   "outputs": [
    {
     "name": "stdout",
     "output_type": "stream",
     "text": [
      "[nltk_data] Downloading package stopwords to\n",
      "[nltk_data]     C:\\Users\\silva\\AppData\\Roaming\\nltk_data...\n",
      "[nltk_data]   Package stopwords is already up-to-date!\n"
     ]
    },
    {
     "data": {
      "text/plain": [
       "True"
      ]
     },
     "execution_count": 9,
     "metadata": {},
     "output_type": "execute_result"
    }
   ],
   "source": [
    "#download stop words\n",
    "nltk.download('stopwords')"
   ]
  },
  {
   "cell_type": "code",
   "execution_count": 56,
   "metadata": {},
   "outputs": [
    {
     "name": "stdout",
     "output_type": "stream",
     "text": [
      "['i', 'me', 'my', 'myself', 'we', 'our', 'ours', 'ourselves', 'you', \"you're\"]\n"
     ]
    }
   ],
   "source": [
    "stopword = nltk.corpus.stopwords.words('english')\n",
    "print(stopword[:10])"
   ]
  },
  {
   "cell_type": "markdown",
   "metadata": {},
   "source": [
    "### 6 Remove Stop Words\n",
    "\n",
    "`It's time to remove stop word from out token. So we can get real data that we want to analyze`"
   ]
  },
  {
   "cell_type": "code",
   "execution_count": 74,
   "metadata": {},
   "outputs": [
    {
     "name": "stdout",
     "output_type": "stream",
     "text": [
      "['project', 'gutenberg', 'ebook', 'poirot', 'investigates', 'agatha', 'christie', 'body', 'margin', 'left']\n"
     ]
    }
   ],
   "source": [
    "stopword_remove = [word for word in token_in_lowercase if word not in stopword]\n",
    "print(stopword_remove[:10])"
   ]
  },
  {
   "cell_type": "code",
   "execution_count": 75,
   "metadata": {},
   "outputs": [
    {
     "name": "stdout",
     "output_type": "stream",
     "text": [
      "[('poirot', 523), ('one', 224), ('said', 205), ('mr', 167), ('man', 163), ('would', 123), ('see', 121)]\n"
     ]
    }
   ],
   "source": [
    "count = Counter(stopword_remove)\n",
    "top_7 = count.most_common(7)\n",
    "print(top_7)"
   ]
  },
  {
   "cell_type": "markdown",
   "metadata": {},
   "source": [
    "### 7.Validate the result\n",
    "\n",
    "`We need to ensure the result of top 7 words that occure in \"Poirot Investigate\". We test all the top 7 value a to make sure that all top 7 words not include in stop words.`"
   ]
  },
  {
   "cell_type": "code",
   "execution_count": 77,
   "metadata": {},
   "outputs": [
    {
     "name": "stdout",
     "output_type": "stream",
     "text": [
      "False\n"
     ]
    }
   ],
   "source": [
    "words,count = zip(*top_7)\n",
    "print(words in stopword)"
   ]
  },
  {
   "cell_type": "markdown",
   "metadata": {},
   "source": [
    "### 8.Visualizing Data\n",
    "\n",
    "`Time to visualize word frequency in Poirot Investigate novel with matplotlib package. Because Counter Object (most_common) returned list with tuple, we can make word frequency visualiazation with zip function or dataframe `\n",
    "\n",
    "<a href=\"https://docs.python.org/3.3/library/functions.html#zip\" target=\"_blank\"> Zip() Documentation </a>\n",
    "\n",
    "***\n",
    "`I recommended use matplotlib package with version > 2.2.0 because there is a bug with version < 2.2.0 where X axix is always sorted even the figure is string. You can read this bug in this` <a href=\"https://github.com/matplotlib/matplotlib/issues/9312\" target=\"_blank\">this link</a>\n",
    "\n",
    "`Follow` <a href=\"https://matplotlib.org/gallery/style_sheets/style_sheets_reference.html\" target=\"_blank\"> this link</a>\n",
    "` if you want to know more about matplotlib style`\n",
    "***"
   ]
  },
  {
   "cell_type": "markdown",
   "metadata": {},
   "source": [
    "#### Data visualization with Zip()"
   ]
  },
  {
   "cell_type": "code",
   "execution_count": 81,
   "metadata": {
    "scrolled": false
   },
   "outputs": [
    {
     "data": {
      "image/png": "[encoded data removed]",
      "text/plain": [
       "<Figure size 648x360 with 1 Axes>"
      ]
     },
     "metadata": {},
     "output_type": "display_data"
    }
   ],
   "source": [
    "x,y = zip(*top_7)\n",
    "plt.style.use(\"bmh\")\n",
    "fig,ax = plt.subplots()\n",
    "ax.bar(x,y)\n",
    "ax.set_xticklabels (x, rotation = 45)\n",
    "ax.set_title(\"Words Frequency in Novel 'Poirot Investigate\")\n",
    "ax.set_ylabel(\"Frequency\")\n",
    "fig.set_size_inches([9,5])\n",
    "plt.show()"
   ]
  },
  {
   "cell_type": "markdown",
   "metadata": {},
   "source": [
    "#### Data visualization with dataframe"
   ]
  },
  {
   "cell_type": "code",
   "execution_count": 23,
   "metadata": {},
   "outputs": [
    {
     "data": {
      "text/html": [
       "<div>\n",
       "<style scoped>\n",
       "    .dataframe tbody tr th:only-of-type {\n",
       "        vertical-align: middle;\n",
       "    }\n",
       "\n",
       "    .dataframe tbody tr th {\n",
       "        vertical-align: top;\n",
       "    }\n",
       "\n",
       "    .dataframe thead th {\n",
       "        text-align: right;\n",
       "    }\n",
       "</style>\n",
       "<table border=\"1\" class=\"dataframe\">\n",
       "  <thead>\n",
       "    <tr style=\"text-align: right;\">\n",
       "      <th></th>\n",
       "      <th>Word</th>\n",
       "      <th>Count</th>\n",
       "    </tr>\n",
       "  </thead>\n",
       "  <tbody>\n",
       "    <tr>\n",
       "      <th>0</th>\n",
       "      <td>poirot</td>\n",
       "      <td>523</td>\n",
       "    </tr>\n",
       "    <tr>\n",
       "      <th>1</th>\n",
       "      <td>one</td>\n",
       "      <td>224</td>\n",
       "    </tr>\n",
       "    <tr>\n",
       "      <th>2</th>\n",
       "      <td>said</td>\n",
       "      <td>205</td>\n",
       "    </tr>\n",
       "    <tr>\n",
       "      <th>3</th>\n",
       "      <td>mr</td>\n",
       "      <td>167</td>\n",
       "    </tr>\n",
       "    <tr>\n",
       "      <th>4</th>\n",
       "      <td>man</td>\n",
       "      <td>163</td>\n",
       "    </tr>\n",
       "    <tr>\n",
       "      <th>5</th>\n",
       "      <td>would</td>\n",
       "      <td>123</td>\n",
       "    </tr>\n",
       "    <tr>\n",
       "      <th>6</th>\n",
       "      <td>see</td>\n",
       "      <td>121</td>\n",
       "    </tr>\n",
       "  </tbody>\n",
       "</table>\n",
       "</div>"
      ],
      "text/plain": [
       "     Word  Count\n",
       "0  poirot    523\n",
       "1     one    224\n",
       "2    said    205\n",
       "3      mr    167\n",
       "4     man    163\n",
       "5   would    123\n",
       "6     see    121"
      ]
     },
     "execution_count": 23,
     "metadata": {},
     "output_type": "execute_result"
    }
   ],
   "source": [
    "import pandas as pd\n",
    "df =pd.DataFrame(top_7, columns = [\"Word\",\"Count\"])\n",
    "df\n"
   ]
  },
  {
   "cell_type": "code",
   "execution_count": 82,
   "metadata": {},
   "outputs": [
    {
     "data": {
      "image/png": "[encoded data removed]",
      "text/plain": [
       "<Figure size 648x432 with 1 Axes>"
      ]
     },
     "metadata": {},
     "output_type": "display_data"
    }
   ],
   "source": [
    "plt.style.use(\"bmh\")\n",
    "\n",
    "fig,ax = plt.subplots()\n",
    "ax.bar(df[\"Word\"],df[\"Count\"])\n",
    "ax.set_xticklabels (df[\"Word\"], rotation = 45)\n",
    "ax.set_title(\"Words Frequency in Novel 'Poirot Investigate'\")\n",
    "ax.set_ylabel(\"Frequency\")\n",
    "fig.set_size_inches([9,6])\n",
    "plt.show()"
   ]
  }
 ],
 "metadata": {
  "kernelspec": {
   "display_name": "Python 3",
   "language": "python",
   "name": "python3"
  },
  "language_info": {
   "codemirror_mode": {
    "name": "ipython",
    "version": 3
   },
   "file_extension": ".py",
   "mimetype": "text/x-python",
   "name": "python",
   "nbconvert_exporter": "python",
   "pygments_lexer": "ipython3",
   "version": "3.6.3"
  }
 },
 "nbformat": 4,
 "nbformat_minor": 2
}
